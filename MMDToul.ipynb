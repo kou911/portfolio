{
  "cells": [
    {
      "cell_type": "markdown",
      "metadata": {
        "id": "view-in-github",
        "colab_type": "text"
      },
      "source": [
        "<a href=\"https://colab.research.google.com/github/kou911/portfolio/blob/main/MMDToul.ipynb\" target=\"_parent\"><img src=\"https://colab.research.google.com/assets/colab-badge.svg\" alt=\"Open In Colab\"/></a>"
      ]
    },
    {
      "cell_type": "code",
      "execution_count": null,
      "metadata": {
        "colab": {
          "base_uri": "https://localhost:8080/"
        },
        "id": "oiyZO5mLfJCs",
        "outputId": "64710025-7b15-4543-dbe9-a9328f793a3e"
      },
      "outputs": [
        {
          "output_type": "execute_result",
          "data": {
            "text/plain": [
              "40"
            ]
          },
          "metadata": {},
          "execution_count": 21
        }
      ],
      "source": [
        "start = bytearray\\\n",
        " ([0x56, 0x6F, 0x63, 0x61, 0x6C, 0x6F, 0x69, 0x64, 0x20, 0x4D, 0x6F, 0x74, 0x69, 0x6F, 0x6E, 0x20, \\\n",
        "   0x44, 0x61, 0x74, 0x61, 0x20, 0x30, 0x30, 0x30, 0x32, 0x00, 0x00, 0x00, 0x00, 0x00, 0x8E, 0xA9, \\\n",
        "   0x93, 0xAE, 0x8C, 0xFB, 0x83, 0x70, 0x83, 0x4E, 0x00, 0x00, 0x00, 0x00, 0x00, 0x00, 0x00, 0x00, \\\n",
        "   0x00, 0x00, 0x00, 0x00, 0x00, 0x00])\n",
        "\n",
        "A = list('あぁゃかがさざただなはばぱまやらわ')\n",
        "I = list(\"いぃきぎしじちぢにひびぴみり\")\n",
        "U = list(\"うぅゅくぐすずつづぬふぶぷゆむる\")\n",
        "E = list(\"えぇけげせぜてでねへべぺめれ\")\n",
        "O = list(\"おぉょこごそぞとどのほぼぽもよろを\")\n",
        "N = list(\"ばびぶべぼぱぴぷぺぽまみむめもわん\")\n",
        "small = list(\"ゃゅょ\")\n",
        "stay = [\"ー\",\"っ\"]\n",
        "dic = [A,I,U,E,O]\n",
        "jp = list(\"あいうえお\")\n",
        "\n",
        "# text = list(input(\"セリフ\"))\n",
        "text = list(\"おはようございます\")\n",
        "flame = 10\n",
        "voice = []\n",
        "\n",
        "range = []\n",
        "textrange = hex(len(text))\n",
        "range = range.replace('0x','')\n",
        "while(len(range)<8):\n",
        "  range = range + \"0\"\n",
        "\n",
        "\n",
        "f = open(\"test.vmd\", \"wb\")\n",
        "f.write(start)\n",
        "\n",
        "for i in range(len(text)):\n",
        "    if text[i] in N:\n",
        "        voice.append(\"ん\")\n",
        "    if text[i] in small:\n",
        "        text.pop()\n",
        "    for d in range(len(dic)):\n",
        "        if text[i] in dic[d]:\n",
        "            voice.append(jp[d])\n",
        "            break"
      ]
    },
    {
      "cell_type": "code",
      "execution_count": null,
      "metadata": {
        "colab": {
          "base_uri": "https://localhost:8080/"
        },
        "id": "b0pP-8_h54m1",
        "outputId": "24bb9542-e1bc-4c0f-9d13-635507b87d0a"
      },
      "outputs": [
        {
          "output_type": "stream",
          "name": "stdout",
          "text": [
            "['0x56', '0x6F', '0x63', '0x61', '0x6C', '0x6F', '0x69', '0x64', '0x20', '0x4D', '0x6F', '0x74', '0x69', '0x6F', '0x6E', '0x20', '0x44', '0x61', '0x74', '0x61', '0x20', '0x30', '0x30', '0x30', '0x32', '0x00', '0x00', '0x00', '0x00', '0x00', '0x8E', '0xA9', '0x93', '0xAE', '0x8C', '0xFB', '0x83', '0x70', '0x83', '0x4E']\n"
          ]
        }
      ],
      "source": [
        "s = \"0x56 6F 63 61 6C 6F 69 64 20 4D 6F 74 69 6F 6E 20 44 61 74 61 20 30 30 30 32 00 00 00 00 00 8E A9 93 AE 8C FB 83 70 83 4E\"\n",
        "l = s.replace(' ', ' 0x')\n",
        "x = l.split(\" \")\n",
        "print(x)"
      ]
    },
    {
      "cell_type": "code",
      "source": [
        "s = \"'0x56', '0x6F', '0x63', '0x61', '0x6C', '0x6F', '0x69', '0x64', '0x20', '0x4D', '0x6F', '0x74', '0x69', '0x6F', '0x6E', '0x20', '0x44', '0x61', '0x74', '0x61', '0x20', '0x30', '0x30', '0x30', '0x32', '0x00', '0x00', '0x00', '0x00', '0x00', '0x8E', '0xA9', '0x93', '0xAE', '0x8C', '0xFB', '0x83', '0x70', '0x83', '0x4E'\"\n",
        "l = s.replace(\"'\",\"\")\n",
        "print(l)"
      ],
      "metadata": {
        "colab": {
          "base_uri": "https://localhost:8080/"
        },
        "id": "mM6mp4qIYS9Q",
        "outputId": "78622b5f-6260-4d3c-bb8d-54f3dbd25a0d"
      },
      "execution_count": null,
      "outputs": [
        {
          "output_type": "stream",
          "name": "stdout",
          "text": [
            "0x56, 0x6F, 0x63, 0x61, 0x6C, 0x6F, 0x69, 0x64, 0x20, 0x4D, 0x6F, 0x74, 0x69, 0x6F, 0x6E, 0x20, 0x44, 0x61, 0x74, 0x61, 0x20, 0x30, 0x30, 0x30, 0x32, 0x00, 0x00, 0x00, 0x00, 0x00, 0x8E, 0xA9, 0x93, 0xAE, 0x8C, 0xFB, 0x83, 0x70, 0x83, 0x4E\n"
          ]
        }
      ]
    },
    {
      "cell_type": "code",
      "execution_count": null,
      "metadata": {
        "id": "Wh47vGSP8Rir",
        "colab": {
          "base_uri": "https://localhost:8080/"
        },
        "outputId": "424d70db-ea7e-4ee9-9d3b-b5e73ae80781"
      },
      "outputs": [
        {
          "output_type": "stream",
          "name": "stdout",
          "text": [
            "<class 'int'>\n"
          ]
        }
      ],
      "source": [
        "a: bytearray = 110\n",
        "print(type(a))"
      ]
    }
  ],
  "metadata": {
    "colab": {
      "provenance": [],
      "authorship_tag": "ABX9TyPhMiD0xvKvycgfl2rrwjpW",
      "include_colab_link": true
    },
    "kernelspec": {
      "display_name": "Python 3",
      "name": "python3"
    },
    "language_info": {
      "name": "python"
    }
  },
  "nbformat": 4,
  "nbformat_minor": 0
}